{
 "cells": [
  {
   "cell_type": "code",
   "execution_count": 1,
   "metadata": {},
   "outputs": [],
   "source": [
    "#Q1\n",
    "first_name = [\"Mary\", \"James\", \"Peter\", \"Yoyo\"]\n",
    "last_name = [\"Brown\", \"White\", \"Reed\", \"Holt\"]"
   ]
  },
  {
   "cell_type": "code",
   "execution_count": 2,
   "metadata": {},
   "outputs": [
    {
     "name": "stdout",
     "output_type": "stream",
     "text": [
      "[('Mary', 'Brown'), ('James', 'White'), ('Peter', 'Reed'), ('Yoyo', 'Holt')]\n"
     ]
    }
   ],
   "source": [
    "#Q1.a\n",
    "first_last_list = [((first_name[i]), (last_name[i]))\n",
    "                  for i in range(len(first_name))]\n",
    "print(first_last_list)"
   ]
  },
  {
   "cell_type": "code",
   "execution_count": 3,
   "metadata": {},
   "outputs": [],
   "source": [
    "#Q1.b\n",
    "from collections import defaultdict\n",
    "vowel_count_dict = defaultdict(int)\n",
    "for name in first_name:\n",
    "    for letter in name:\n",
    "        if 'a' == letter or 'e'== letter or 'i' == letter or 'o'== letter or 'u' == letter:\n",
    "            vowel_count_dict[name] += 1\n",
    "        \n",
    "    \n"
   ]
  },
  {
   "cell_type": "code",
   "execution_count": 4,
   "metadata": {},
   "outputs": [],
   "source": [
    "#Q1.c\n",
    "last_two = first_last_list[-2:]"
   ]
  },
  {
   "cell_type": "code",
   "execution_count": 5,
   "metadata": {},
   "outputs": [
    {
     "name": "stdout",
     "output_type": "stream",
     "text": [
      "[('James', 'White'), ('Peter', 'Reed'), ('Yoyo', 'Holt'), ('Mary', 'Brown')]\n"
     ]
    }
   ],
   "source": [
    "#Q1.d\n",
    "sort_list = sorted(first_last_list, \n",
    "            key = lambda first_last_list: first_last_list[1],\n",
    "            reverse = True)"
   ]
  },
  {
   "cell_type": "code",
   "execution_count": 6,
   "metadata": {
    "scrolled": true
   },
   "outputs": [],
   "source": [
    "#Q2\n",
    "import random\n",
    "\n",
    "first_random_list = [random.randint(0,50) for x in range(100)] \n",
    "second_random_list = [random.randint(0,50) for y in range(100)]\n",
    "pair_list = [(first_random_list[i], second_random_list[i]) for i in range(len(first_random_list))]\n",
    "\n",
    "extracted_pair_list  = [(first_random_list[i], second_random_list[i]) for i in range(len(first_random_list))\n",
    "                        if first_random_list[i] < second_random_list[i]]\n",
    "\n"
   ]
  },
  {
   "cell_type": "code",
   "execution_count": null,
   "metadata": {},
   "outputs": [],
   "source": []
  }
 ],
 "metadata": {
  "kernelspec": {
   "display_name": "Python 3",
   "language": "python",
   "name": "python3"
  },
  "language_info": {
   "codemirror_mode": {
    "name": "ipython",
    "version": 3
   },
   "file_extension": ".py",
   "mimetype": "text/x-python",
   "name": "python",
   "nbconvert_exporter": "python",
   "pygments_lexer": "ipython3",
   "version": "3.7.3"
  }
 },
 "nbformat": 4,
 "nbformat_minor": 2
}
