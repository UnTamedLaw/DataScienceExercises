{
 "cells": [
  {
   "cell_type": "markdown",
   "metadata": {},
   "source": [
    "### numpy is used to handle arrays () will become a title) numerical python\n",
    "-handles numerical arrays \n",
    "-array and lists are very different \n",
    "-we will focus on\n",
    "    1. create an array\n",
    "    2. slicing\n",
    "    3. aggregation(mean, max, min, standard deviation)\n",
    "    \n",
    "   \n"
   ]
  },
  {
   "cell_type": "code",
   "execution_count": 1,
   "metadata": {},
   "outputs": [],
   "source": [
    "list1 = range(10) #is an iterator \n",
    "list1 = list(range(10)) #this will be a list\n"
   ]
  },
  {
   "cell_type": "code",
   "execution_count": 2,
   "metadata": {},
   "outputs": [
    {
     "data": {
      "text/plain": [
       "array([ 1,  2,  3,  4,  5,  6,  7,  8,  9, 10])"
      ]
     },
     "execution_count": 2,
     "metadata": {},
     "output_type": "execute_result"
    }
   ],
   "source": [
    "import numpy as np\n",
    "array1 = np.array(list1)\n",
    "array1\n",
    "#list cannot be added. \n",
    "#array can add one to each element of the array\n",
    "array1+1"
   ]
  },
  {
   "cell_type": "code",
   "execution_count": 3,
   "metadata": {},
   "outputs": [
    {
     "data": {
      "text/plain": [
       "array([ 1,  2,  3,  4,  5,  6,  7,  8,  9, 10])"
      ]
     },
     "execution_count": 3,
     "metadata": {},
     "output_type": "execute_result"
    }
   ],
   "source": [
    "np.array([1,2,3,4])\n",
    "np.arange(1,11)"
   ]
  },
  {
   "cell_type": "code",
   "execution_count": 4,
   "metadata": {},
   "outputs": [
    {
     "data": {
      "text/plain": [
       "array([ 0,  1,  2,  3,  4,  5,  6,  7,  8,  9, 10])"
      ]
     },
     "execution_count": 4,
     "metadata": {},
     "output_type": "execute_result"
    }
   ],
   "source": [
    "np.arange(11)\n"
   ]
  },
  {
   "cell_type": "code",
   "execution_count": 5,
   "metadata": {},
   "outputs": [
    {
     "data": {
      "text/plain": [
       "array([ 2,  4,  6,  8, 10, 12, 14, 16, 18, 20, 22, 24, 26, 28, 30, 32, 34,\n",
       "       36, 38, 40, 42, 44, 46, 48, 50, 52, 54, 56, 58, 60, 62, 64, 66, 68,\n",
       "       70, 72, 74, 76, 78, 80, 82, 84, 86, 88, 90, 92, 94, 96, 98])"
      ]
     },
     "execution_count": 5,
     "metadata": {},
     "output_type": "execute_result"
    }
   ],
   "source": [
    "list2 = [a for a in range(2, 100) if a % 2 == 0]\n",
    "array1 = np.array(list2)\n",
    "\n",
    "list2 = [ 2*i for i in range(1, 51)]\n",
    "array1 #functions uses parenthesis \n"
   ]
  },
  {
   "cell_type": "code",
   "execution_count": 6,
   "metadata": {},
   "outputs": [
    {
     "data": {
      "text/plain": [
       "array([[[ 7,  2,  5],\n",
       "        [ 5,  9, 11],\n",
       "        [ 5,  7,  4],\n",
       "        [ 6,  9,  8],\n",
       "        [10, 10,  3]],\n",
       "\n",
       "       [[ 8,  9,  9],\n",
       "        [10,  3,  7],\n",
       "        [11, 10, 11],\n",
       "        [ 6,  5,  2],\n",
       "        [ 5,  7,  2]],\n",
       "\n",
       "       [[ 4,  5, 10],\n",
       "        [ 3,  5,  5],\n",
       "        [ 5,  9,  2],\n",
       "        [ 3, 11, 11],\n",
       "        [ 2,  6,  9]],\n",
       "\n",
       "       [[ 5,  4,  9],\n",
       "        [ 4,  2,  2],\n",
       "        [ 6,  7,  7],\n",
       "        [ 8, 10,  6],\n",
       "        [ 3,  6, 11]]])"
      ]
     },
     "execution_count": 6,
     "metadata": {},
     "output_type": "execute_result"
    }
   ],
   "source": [
    "np.random.seed(0) #seed number will get same results if its 0\n",
    "array2 = np.random.randint(2,12,size= (4, 5, 3))\n",
    "array2\n"
   ]
  },
  {
   "cell_type": "code",
   "execution_count": 7,
   "metadata": {},
   "outputs": [
    {
     "data": {
      "text/plain": [
       "3"
      ]
     },
     "execution_count": 7,
     "metadata": {},
     "output_type": "execute_result"
    }
   ],
   "source": [
    "array2.ndim #number of dimensions\n"
   ]
  },
  {
   "cell_type": "code",
   "execution_count": 8,
   "metadata": {},
   "outputs": [
    {
     "data": {
      "text/plain": [
       "(4, 5, 3)"
      ]
     },
     "execution_count": 8,
     "metadata": {},
     "output_type": "execute_result"
    }
   ],
   "source": [
    "array2.shape #shape is not a function so you don't use parenthesis"
   ]
  },
  {
   "cell_type": "code",
   "execution_count": 9,
   "metadata": {},
   "outputs": [
    {
     "data": {
      "text/plain": [
       "dtype('int64')"
      ]
     },
     "execution_count": 9,
     "metadata": {},
     "output_type": "execute_result"
    }
   ],
   "source": [
    "array2.dtype #data type in the array"
   ]
  },
  {
   "cell_type": "code",
   "execution_count": 10,
   "metadata": {},
   "outputs": [
    {
     "data": {
      "text/plain": [
       "numpy.ndarray"
      ]
     },
     "execution_count": 10,
     "metadata": {},
     "output_type": "execute_result"
    }
   ],
   "source": [
    "type(array2) #numpy array"
   ]
  },
  {
   "cell_type": "markdown",
   "metadata": {},
   "source": [
    "### np.linspace() vs np.arange()\n"
   ]
  },
  {
   "cell_type": "code",
   "execution_count": 11,
   "metadata": {},
   "outputs": [
    {
     "data": {
      "text/plain": [
       "array([2. , 2.1, 2.2, 2.3, 2.4, 2.5, 2.6, 2.7, 2.8, 2.9, 3. , 3.1, 3.2,\n",
       "       3.3, 3.4, 3.5, 3.6, 3.7, 3.8, 3.9, 4. , 4.1, 4.2, 4.3, 4.4, 4.5,\n",
       "       4.6, 4.7, 4.8, 4.9])"
      ]
     },
     "execution_count": 11,
     "metadata": {},
     "output_type": "execute_result"
    }
   ],
   "source": [
    "np.arange(2,5, step=(0.1))"
   ]
  },
  {
   "cell_type": "code",
   "execution_count": 12,
   "metadata": {},
   "outputs": [
    {
     "data": {
      "text/plain": [
       "array([2.        , 2.06976744, 2.13953488, 2.20930233, 2.27906977,\n",
       "       2.34883721, 2.41860465, 2.48837209, 2.55813953, 2.62790698,\n",
       "       2.69767442, 2.76744186, 2.8372093 , 2.90697674, 2.97674419,\n",
       "       3.04651163, 3.11627907, 3.18604651, 3.25581395, 3.3255814 ,\n",
       "       3.39534884, 3.46511628, 3.53488372, 3.60465116, 3.6744186 ,\n",
       "       3.74418605, 3.81395349, 3.88372093, 3.95348837, 4.02325581,\n",
       "       4.09302326, 4.1627907 , 4.23255814, 4.30232558, 4.37209302,\n",
       "       4.44186047, 4.51162791, 4.58139535, 4.65116279, 4.72093023,\n",
       "       4.79069767, 4.86046512, 4.93023256, 5.        ])"
      ]
     },
     "execution_count": 12,
     "metadata": {},
     "output_type": "execute_result"
    }
   ],
   "source": [
    "np.linspace(2,5,44 ) #instead of step its  #how many numbers do you want"
   ]
  },
  {
   "cell_type": "code",
   "execution_count": 13,
   "metadata": {},
   "outputs": [
    {
     "data": {
      "text/plain": [
       "array([44, 60, 33,  3, 67, 43, 59, 37, 13, 48, 84, 93,  2, 16, 55, 14, 44,\n",
       "       86, 77, 70,  8, 70, 49,  5, 78, 54, 80, 17, 22, 60, 25, 81, 15, 87,\n",
       "       50, 51, 71, 43, 37, 66, 97, 71, 96,  2, 52, 38, 36, 50, 95,  5, 44,\n",
       "       79, 23, 75,  2, 12, 45, 60, 25, 61,  4, 64, 37, 96, 69, 84, 48, 22,\n",
       "       83, 52, 29, 16, 43, 60, 67, 38, 12, 88, 45, 13,  4, 53, 82, 34, 56,\n",
       "        2, 40, 21, 48, 44, 58, 62, 79, 32, 26,  4,  5, 96, 15, 42])"
      ]
     },
     "execution_count": 13,
     "metadata": {},
     "output_type": "execute_result"
    }
   ],
   "source": [
    "x = np.random.randint(2, 100, 100)\n",
    "x"
   ]
  },
  {
   "cell_type": "code",
   "execution_count": 14,
   "metadata": {},
   "outputs": [],
   "source": [
    "x2 = x.reshape((4,25)) #4 rows #25 columns each row has 25 numbers"
   ]
  },
  {
   "cell_type": "code",
   "execution_count": 15,
   "metadata": {},
   "outputs": [
    {
     "data": {
      "text/plain": [
       "2"
      ]
     },
     "execution_count": 15,
     "metadata": {},
     "output_type": "execute_result"
    }
   ],
   "source": [
    "x2.ndim"
   ]
  },
  {
   "cell_type": "code",
   "execution_count": 16,
   "metadata": {},
   "outputs": [
    {
     "data": {
      "text/plain": [
       "numpy.ndarray"
      ]
     },
     "execution_count": 16,
     "metadata": {},
     "output_type": "execute_result"
    }
   ],
   "source": [
    "x2.shape\n",
    "x2.dtype\n",
    "type(x2)"
   ]
  },
  {
   "cell_type": "markdown",
   "metadata": {},
   "source": [
    "### Slicing"
   ]
  },
  {
   "cell_type": "code",
   "execution_count": 17,
   "metadata": {},
   "outputs": [
    {
     "data": {
      "text/plain": [
       "array([8, 3, 8, 2, 8, 4])"
      ]
     },
     "execution_count": 17,
     "metadata": {},
     "output_type": "execute_result"
    }
   ],
   "source": [
    "x1 = np.random.randint(10, size = 6)\n",
    "x1"
   ]
  },
  {
   "cell_type": "code",
   "execution_count": 18,
   "metadata": {},
   "outputs": [
    {
     "data": {
      "text/plain": [
       "8"
      ]
     },
     "execution_count": 18,
     "metadata": {},
     "output_type": "execute_result"
    }
   ],
   "source": [
    "x1[0] #first element "
   ]
  },
  {
   "cell_type": "code",
   "execution_count": 19,
   "metadata": {},
   "outputs": [
    {
     "data": {
      "text/plain": [
       "4"
      ]
     },
     "execution_count": 19,
     "metadata": {},
     "output_type": "execute_result"
    }
   ],
   "source": [
    "x1[-1] #last element"
   ]
  },
  {
   "cell_type": "code",
   "execution_count": 20,
   "metadata": {},
   "outputs": [
    {
     "data": {
      "text/plain": [
       "array([3, 2])"
      ]
     },
     "execution_count": 20,
     "metadata": {},
     "output_type": "execute_result"
    }
   ],
   "source": [
    "x1[[1,3]] # 2nd and 4th"
   ]
  },
  {
   "cell_type": "code",
   "execution_count": 21,
   "metadata": {},
   "outputs": [
    {
     "data": {
      "text/plain": [
       "array([8, 3, 8])"
      ]
     },
     "execution_count": 21,
     "metadata": {},
     "output_type": "execute_result"
    }
   ],
   "source": [
    "x1[0:3] #element 3 will not be included x1[0], x1[1], x1[2]"
   ]
  },
  {
   "cell_type": "code",
   "execution_count": 22,
   "metadata": {},
   "outputs": [
    {
     "data": {
      "text/plain": [
       "array([8, 3, 8])"
      ]
     },
     "execution_count": 22,
     "metadata": {},
     "output_type": "execute_result"
    }
   ],
   "source": [
    "x1[:3]"
   ]
  },
  {
   "cell_type": "code",
   "execution_count": 23,
   "metadata": {},
   "outputs": [
    {
     "data": {
      "text/plain": [
       "array([2, 8, 4])"
      ]
     },
     "execution_count": 23,
     "metadata": {},
     "output_type": "execute_result"
    }
   ],
   "source": [
    "x1[3:]  #4th element to the end"
   ]
  },
  {
   "cell_type": "code",
   "execution_count": 24,
   "metadata": {},
   "outputs": [
    {
     "data": {
      "text/plain": [
       "array([[8],\n",
       "       [3],\n",
       "       [8],\n",
       "       [2],\n",
       "       [8],\n",
       "       [4]])"
      ]
     },
     "execution_count": 24,
     "metadata": {},
     "output_type": "execute_result"
    }
   ],
   "source": [
    "x1[:,np.newaxis] #6 * 1"
   ]
  },
  {
   "cell_type": "code",
   "execution_count": 25,
   "metadata": {},
   "outputs": [
    {
     "data": {
      "text/plain": [
       "array([[0.89155444, 0.68005557, 0.44919774, 0.97857093, 0.11620191,\n",
       "        0.7670237 , 0.41182014, 0.67543908, 0.24979628, 0.31321833],\n",
       "       [0.96541622, 0.58846509, 0.65966841, 0.53320625, 0.23053302,\n",
       "        0.39486929, 0.61880856, 0.47486752, 0.47013219, 0.71607453],\n",
       "       [0.287991  , 0.38346223, 0.74916984, 0.87845219, 0.10286336,\n",
       "        0.09237389, 0.35404666, 0.55181626, 0.03362509, 0.96896177],\n",
       "       [0.32099724, 0.22126269, 0.1412639 , 0.09725993, 0.98404224,\n",
       "        0.26034093, 0.53702252, 0.44792617, 0.09956909, 0.35231166],\n",
       "       [0.46924917, 0.84114013, 0.90464774, 0.03755938, 0.50831545,\n",
       "        0.16684751, 0.77905102, 0.8649333 , 0.41139672, 0.13997259],\n",
       "       [0.03322239, 0.98257496, 0.37329075, 0.42007537, 0.05058812,\n",
       "        0.36549611, 0.01662797, 0.23074234, 0.7649117 , 0.94412352],\n",
       "       [0.74999925, 0.33940382, 0.48954894, 0.33898512, 0.17949026,\n",
       "        0.1709866 , 0.46345098, 0.87457296, 0.94411975, 0.60825287],\n",
       "       [0.59665541, 0.78364425, 0.5000263 , 0.05037006, 0.69909807,\n",
       "        0.9923964 , 0.26726254, 0.67909062, 0.86428144, 0.75084425],\n",
       "       [0.96448977, 0.55424244, 0.2123905 , 0.22244322, 0.21874937,\n",
       "        0.56957353, 0.45210904, 0.97023668, 0.68054469, 0.08529557],\n",
       "       [0.05641833, 0.4878377 , 0.88100456, 0.97640439, 0.61765792,\n",
       "        0.54249878, 0.85461358, 0.74383455, 0.47859633, 0.67708157]])"
      ]
     },
     "execution_count": 25,
     "metadata": {},
     "output_type": "execute_result"
    }
   ],
   "source": [
    "#4\n",
    "x = np.array([np.random.rand() for x in range(100)])\n",
    "x_reshaped = x.reshape(10,10)\n",
    "x_reshaped"
   ]
  },
  {
   "cell_type": "code",
   "execution_count": 26,
   "metadata": {},
   "outputs": [
    {
     "data": {
      "text/plain": [
       "array([0.        , 0.26315789, 0.52631579, 0.78947368, 1.05263158,\n",
       "       1.31578947, 1.57894737, 1.84210526, 2.10526316, 2.36842105,\n",
       "       2.63157895, 2.89473684, 3.15789474, 3.42105263, 3.68421053,\n",
       "       3.94736842, 4.21052632, 4.47368421, 4.73684211, 5.        ])"
      ]
     },
     "execution_count": 26,
     "metadata": {},
     "output_type": "execute_result"
    }
   ],
   "source": [
    "#5\n",
    "x = np.linspace(0, 5, 20)\n",
    "x"
   ]
  },
  {
   "cell_type": "code",
   "execution_count": 27,
   "metadata": {},
   "outputs": [
    {
     "data": {
      "text/plain": [
       "array([0.        , 0.26315789, 0.52631579, 0.78947368, 1.05263158,\n",
       "       1.31578947, 1.57894737, 1.84210526, 2.10526316, 2.36842105,\n",
       "       2.63157895, 2.89473684, 3.15789474, 3.42105263, 3.68421053,\n",
       "       3.94736842, 4.21052632, 4.47368421, 4.73684211, 5.        ,\n",
       "       0.        , 0.26315789, 0.52631579, 0.78947368, 1.05263158,\n",
       "       1.31578947, 1.57894737, 1.84210526, 2.10526316, 2.36842105,\n",
       "       2.63157895, 2.89473684, 3.15789474, 3.42105263, 3.68421053,\n",
       "       3.94736842, 4.21052632, 4.47368421, 4.73684211, 5.        ])"
      ]
     },
     "execution_count": 27,
     "metadata": {},
     "output_type": "execute_result"
    }
   ],
   "source": [
    "np.concatenate((x,x)) #tuples or list instead just the parenthesis\n",
    "np.concatenate([x,x]) #1 * 40"
   ]
  },
  {
   "cell_type": "code",
   "execution_count": 28,
   "metadata": {},
   "outputs": [
    {
     "data": {
      "text/plain": [
       "array([[0.        , 0.26315789, 0.52631579, 0.78947368, 1.05263158,\n",
       "        1.31578947, 1.57894737, 1.84210526, 2.10526316, 2.36842105,\n",
       "        2.63157895, 2.89473684, 3.15789474, 3.42105263, 3.68421053,\n",
       "        3.94736842, 4.21052632, 4.47368421, 4.73684211, 5.        ],\n",
       "       [0.        , 0.26315789, 0.52631579, 0.78947368, 1.05263158,\n",
       "        1.31578947, 1.57894737, 1.84210526, 2.10526316, 2.36842105,\n",
       "        2.63157895, 2.89473684, 3.15789474, 3.42105263, 3.68421053,\n",
       "        3.94736842, 4.21052632, 4.47368421, 4.73684211, 5.        ]])"
      ]
     },
     "execution_count": 28,
     "metadata": {},
     "output_type": "execute_result"
    }
   ],
   "source": [
    "np.vstack([x,x])"
   ]
  },
  {
   "cell_type": "code",
   "execution_count": 29,
   "metadata": {},
   "outputs": [
    {
     "data": {
      "text/plain": [
       "array([0.        , 0.26315789, 0.52631579, 0.78947368, 1.05263158,\n",
       "       1.31578947, 1.57894737, 1.84210526, 2.10526316, 2.36842105,\n",
       "       2.63157895, 2.89473684, 3.15789474, 3.42105263, 3.68421053,\n",
       "       3.94736842, 4.21052632, 4.47368421, 4.73684211, 5.        ,\n",
       "       0.        , 0.26315789, 0.52631579, 0.78947368, 1.05263158,\n",
       "       1.31578947, 1.57894737, 1.84210526, 2.10526316, 2.36842105,\n",
       "       2.63157895, 2.89473684, 3.15789474, 3.42105263, 3.68421053,\n",
       "       3.94736842, 4.21052632, 4.47368421, 4.73684211, 5.        ])"
      ]
     },
     "execution_count": 29,
     "metadata": {},
     "output_type": "execute_result"
    }
   ],
   "source": [
    "np.hstack([x,x])"
   ]
  },
  {
   "cell_type": "code",
   "execution_count": 30,
   "metadata": {},
   "outputs": [
    {
     "data": {
      "text/plain": [
       "<matplotlib.legend.Legend at 0x10f0994a8>"
      ]
     },
     "execution_count": 30,
     "metadata": {},
     "output_type": "execute_result"
    }
   ],
   "source": [
    "import matplotlib.pyplot as plt\n",
    "x = np.linspace(0,10 * np.pi, 1000)\n",
    "y = np.sin(x)\n",
    "plt.plot(x, y, label = \"sine curve\")\n",
    "plt.plot(x, np.cos(x), label = \"cos curve\")\n",
    "\n",
    "plt.legend()"
   ]
  },
  {
   "cell_type": "code",
   "execution_count": 31,
   "metadata": {},
   "outputs": [
    {
     "data": {
      "image/png": "[encoded data removed]",
      "text/plain": [
       "<Figure size 432x288 with 1 Axes>"
      ]
     },
     "metadata": {
      "needs_background": "light"
     },
     "output_type": "display_data"
    }
   ],
   "source": [
    "#6\n",
    "x = np.linspace(-6,6, 1000)\n",
    "y = np.sqrt(36-x**2) #star star is power \n",
    "y2 = -np.sqrt(36 - x**2)\n",
    "plt.plot(x, y, \"r\") #r is red #b is blue\n",
    "plt.plot(x, y2, 'r')\n",
    "\n",
    "plt.gca().set_aspect('equal') #get current access (gca function in matplotlib)\n"
   ]
  },
  {
   "cell_type": "code",
   "execution_count": 32,
   "metadata": {},
   "outputs": [
    {
     "data": {
      "text/plain": [
       "array([-10.  ,  -9.99,  -9.98, ...,   9.97,   9.98,   9.99])"
      ]
     },
     "execution_count": 32,
     "metadata": {},
     "output_type": "execute_result"
    }
   ],
   "source": [
    "#7\n",
    "x = np.arange(-10,10, step = (.01))\n",
    "x"
   ]
  },
  {
   "cell_type": "code",
   "execution_count": 33,
   "metadata": {},
   "outputs": [
    {
     "data": {
      "text/plain": [
       "30000.0"
      ]
     },
     "execution_count": 33,
     "metadata": {},
     "output_type": "execute_result"
    }
   ],
   "source": [
    "#8\n",
    "x1 = np.ones(1000)*30 #create an array of ones * 30\n",
    "x1.dtype\n",
    "x2 = np.zeros(1000)\n",
    "np.sum(x1) #or\n",
    "x1.sum()\n"
   ]
  },
  {
   "cell_type": "markdown",
   "metadata": {},
   "source": [
    "### Aggregation\n",
    "- sum\n",
    "- mean\n",
    "- median\n",
    "- standard deviation\n",
    "- percentile"
   ]
  },
  {
   "cell_type": "code",
   "execution_count": 34,
   "metadata": {},
   "outputs": [],
   "source": [
    "#9 very important part of data science\n",
    "import pandas as pd #python data library for data analysis\n"
   ]
  },
  {
   "cell_type": "code",
   "execution_count": 35,
   "metadata": {},
   "outputs": [
    {
     "data": {
      "text/plain": [
       "42"
      ]
     },
     "execution_count": 35,
     "metadata": {},
     "output_type": "execute_result"
    }
   ],
   "source": [
    "data = pd.read_csv(\"/Users/kevin/Downloads/AD 450/president_heights.csv\") #comma seperated values\n",
    "data\n",
    "heights = np.array(data[\"height(cm)\"]) #series not an array! without converting to an array (don't need to convert in future)\n",
    "heights.size #or len(heights) can't use size if they weren't numbers haha"
   ]
  },
  {
   "cell_type": "code",
   "execution_count": 36,
   "metadata": {},
   "outputs": [
    {
     "data": {
      "text/plain": [
       "179.73809523809524"
      ]
     },
     "execution_count": 36,
     "metadata": {},
     "output_type": "execute_result"
    }
   ],
   "source": [
    "## aggregation\n",
    "heights.mean()"
   ]
  },
  {
   "cell_type": "code",
   "execution_count": 37,
   "metadata": {},
   "outputs": [
    {
     "data": {
      "text/plain": [
       "163"
      ]
     },
     "execution_count": 37,
     "metadata": {},
     "output_type": "execute_result"
    }
   ],
   "source": [
    "heights.min()"
   ]
  },
  {
   "cell_type": "code",
   "execution_count": 60,
   "metadata": {},
   "outputs": [],
   "source": [
    "heights.std()\n",
    "sorted_a = heights.sort\n"
   ]
  },
  {
   "cell_type": "code",
   "execution_count": 59,
   "metadata": {},
   "outputs": [
    {
     "data": {
      "text/plain": [
       "183.0"
      ]
     },
     "execution_count": 59,
     "metadata": {},
     "output_type": "execute_result"
    }
   ],
   "source": [
    "np.percentile(heights, 75) #75th percentile 75% shorter than 183cm"
   ]
  },
  {
   "cell_type": "code",
   "execution_count": 40,
   "metadata": {},
   "outputs": [
    {
     "data": {
      "text/plain": [
       "182.0"
      ]
     },
     "execution_count": 40,
     "metadata": {},
     "output_type": "execute_result"
    }
   ],
   "source": [
    "np.percentile(heights, 50)"
   ]
  },
  {
   "cell_type": "code",
   "execution_count": 41,
   "metadata": {},
   "outputs": [],
   "source": [
    "import seaborn \n",
    "seaborn.set()"
   ]
  },
  {
   "cell_type": "code",
   "execution_count": 42,
   "metadata": {},
   "outputs": [
    {
     "data": {
      "text/plain": [
       "Text(0, 0.5, 'frequency')"
      ]
     },
     "execution_count": 42,
     "metadata": {},
     "output_type": "execute_result"
    },
    {
     "data": {
      "image/png": "[encoded data removed]",
      "text/plain": [
       "<Figure size 432x288 with 1 Axes>"
      ]
     },
     "metadata": {},
     "output_type": "display_data"
    }
   ],
   "source": [
    "plt.hist(heights)\n",
    "plt.xlabel(\"heights(cm)\")\n",
    "plt.ylabel(\"frequency\")"
   ]
  },
  {
   "cell_type": "code",
   "execution_count": 69,
   "metadata": {},
   "outputs": [
    {
     "data": {
      "text/plain": [
       "77.45063593194556"
      ]
     },
     "execution_count": 69,
     "metadata": {},
     "output_type": "execute_result"
    }
   ],
   "source": [
    "from pandas_datareader import data\n",
    "goog = data.DataReader('Goog', start = '2017', end = '2018', data_source = 'yahoo')\n",
    "goog\n",
    "\n",
    "goog_price = np.array(goog[\"Close\"]) #index are the rolls, column names are names!\n",
    "goog_price\n",
    "goog_price.size\n",
    "goog_price.mean()\n",
    "goog_price.min()\n",
    "goog_price.max()\n",
    "goog_price.std()\n",
    "\n",
    "\n",
    "\n"
   ]
  },
  {
   "cell_type": "code",
   "execution_count": 74,
   "metadata": {},
   "outputs": [
    {
     "data": {
      "text/plain": [
       "array([ 786.14001465,  786.90002441,  794.02001953,  806.15002441,\n",
       "        806.65002441,  804.78997803,  807.90997314,  806.35998535,\n",
       "        807.88000488,  804.60998535,  806.07000732,  802.17498779,\n",
       "        805.02001953,  819.30999756,  823.86999512,  835.66998291,\n",
       "        832.15002441,  823.30999756,  802.32000732,  796.78997803,\n",
       "        795.69500732,  798.5300293 ,  801.48999023,  801.34002686,\n",
       "        806.9699707 ,  808.38000488,  809.55999756,  813.66998291,\n",
       "        819.23999023,  820.45001221,  818.97998047,  824.15997314,\n",
       "        828.07000732,  831.65997314,  830.76000977,  831.33001709,\n",
       "        828.64001465,  829.2800293 ,  823.21002197,  835.23999023,\n",
       "        830.63000488,  829.08001709,  827.7800293 ,  831.90997314,\n",
       "        835.36999512,  838.67999268,  843.25      ,  845.53997803,\n",
       "        845.61999512,  847.20001221,  848.7800293 ,  852.11999512,\n",
       "        848.40002441,  830.46002197,  829.59002686,  817.58001709,\n",
       "        814.42999268,  819.51000977,  820.91998291,  831.40997314,\n",
       "        831.5       ,  829.55999756,  838.54998779,  834.57000732,\n",
       "        831.40997314,  827.88000488,  824.66998291,  824.72998047,\n",
       "        823.34997559,  824.32000732,  823.55999756,  837.16998291,\n",
       "        836.82000732,  838.21002197,  841.65002441,  843.19000244,\n",
       "        862.76000977,  872.29998779,  871.72998047,  874.25      ,\n",
       "        905.96002197,  912.57000732,  916.44000244,  927.03997803,\n",
       "        931.65997314,  927.13000488,  934.29998779,  932.16998291,\n",
       "        928.7800293 ,  930.59997559,  932.2199707 ,  937.08001709,\n",
       "        943.        ,  919.61999512,  930.23999023,  934.01000977,\n",
       "        941.85998535,  948.82000732,  954.96002197,  969.53997803,\n",
       "        971.4699707 ,  975.88000488,  964.85998535,  966.95001221,\n",
       "        975.59997559,  983.67999268,  976.57000732,  980.94000244,\n",
       "        983.40997314,  949.83001709,  942.90002441,  953.40002441,\n",
       "        950.76000977,  942.30999756,  939.7800293 ,  957.36999512,\n",
       "        950.63000488,  959.45001221,  957.09002686,  965.59002686,\n",
       "        952.27001953,  927.33001709,  940.48999023,  917.78997803,\n",
       "        908.72998047,  898.70001221,  911.71002197,  906.69000244,\n",
       "        918.59002686,  928.79998779,  930.09002686,  943.83001709,\n",
       "        947.15997314,  955.98999023,  953.41998291,  965.40002441,\n",
       "        970.89001465,  968.15002441,  972.91998291,  980.34002686,\n",
       "        950.70001221,  947.79998779,  934.09002686,  941.5300293 ,\n",
       "        930.5       ,  930.83001709,  930.39001465,  923.65002441,\n",
       "        927.96002197,  929.35998535,  926.78997803,  922.90002441,\n",
       "        907.23999023,  914.39001465,  922.66998291,  922.2199707 ,\n",
       "        926.96002197,  910.97998047,  910.66998291,  906.65997314,\n",
       "        924.69000244,  927.        ,  921.2800293 ,  915.89001465,\n",
       "        913.80999756,  921.28997803,  929.57000732,  939.33001709,\n",
       "        937.34002686,  928.45001221,  927.80999756,  935.95001221,\n",
       "        926.5       ,  929.08001709,  932.07000732,  935.09002686,\n",
       "        925.10998535,  920.28997803,  915.        ,  921.80999756,\n",
       "        931.58001709,  932.45001221,  928.5300293 ,  920.9699707 ,\n",
       "        924.85998535,  944.48999023,  949.5       ,  959.10998535,\n",
       "        953.27001953,  957.78997803,  951.67999268,  969.96002197,\n",
       "        978.89001465,  977.        ,  972.59997559,  989.25      ,\n",
       "        987.83001709,  989.67999268,  992.        ,  992.17999268,\n",
       "        992.80999756,  984.45001221,  988.20001221,  968.45001221,\n",
       "        970.53997803,  973.33001709,  972.55999756, 1019.27001953,\n",
       "       1017.10998535, 1016.64001465, 1025.5       , 1025.57995605,\n",
       "       1032.47998047, 1025.90002441, 1033.32995605, 1039.84997559,\n",
       "       1031.26000977, 1028.06994629, 1025.75      , 1026.        ,\n",
       "       1020.90997314, 1032.5       , 1019.09002686, 1018.38000488,\n",
       "       1034.48999023, 1035.95996094, 1040.60998535, 1054.20996094,\n",
       "       1047.41003418, 1021.65997314, 1021.40997314, 1010.16998291,\n",
       "        998.67999268, 1005.15002441, 1018.38000488, 1030.93005371,\n",
       "       1037.05004883, 1041.09997559, 1040.47998047, 1040.60998535,\n",
       "       1049.15002441, 1064.18994141, 1077.14001465, 1070.68005371,\n",
       "       1064.94995117, 1063.63000488, 1060.11999512, 1056.73999023,\n",
       "       1049.36999512, 1048.14001465, 1046.40002441, 1065.        ])"
      ]
     },
     "execution_count": 74,
     "metadata": {},
     "output_type": "execute_result"
    }
   ],
   "source": [
    "goog_2016lastday = data.DataReader('GOOG', start = \"2016-12-30\", end=\"2017-01-01\", data_source=\"yahoo\")\n",
    "goog_2016_price = np.array(goog_2016lastday[\"Close\"])\n"
   ]
  },
  {
   "cell_type": "code",
   "execution_count": 75,
   "metadata": {},
   "outputs": [
    {
     "data": {
      "text/plain": [
       "252"
      ]
     },
     "execution_count": 75,
     "metadata": {},
     "output_type": "execute_result"
    }
   ],
   "source": [
    "goog_price #an array of closing 2017 \n",
    "goog_2016_price # closing price of last trading 2016 \n",
    "\n",
    "np.sum(goog_price  > goog_2016_price) #boolean condition"
   ]
  },
  {
   "cell_type": "code",
   "execution_count": 93,
   "metadata": {},
   "outputs": [
    {
     "data": {
      "text/plain": [
       "<matplotlib.legend.Legend at 0x1a18df8eb8>"
      ]
     },
     "execution_count": 93,
     "metadata": {},
     "output_type": "execute_result"
    },
    {
     "data": {
      "image/png": "[encoded data removed]",
      "text/plain": [
       "<Figure size 432x288 with 1 Axes>"
      ]
     },
     "metadata": {},
     "output_type": "display_data"
    }
   ],
   "source": [
    "#12\n",
    "seattle = pd.read_csv(\"/Users/kevin/Downloads/AD 450/Seattle2014.csv\")\n",
    "#data.head() just beginning\n",
    "#data.tail() just end\n",
    "seattle_min.dtype\n",
    "seattle_min = np.array(seattle[\"TMIN\"]) \n",
    "seattle_min.shape #365\n",
    "\n",
    "plt.hist(seattle_min, label = \"min temp\")\n",
    "plt.legend()\n"
   ]
  },
  {
   "cell_type": "code",
   "execution_count": 81,
   "metadata": {},
   "outputs": [
    {
     "data": {
      "text/plain": [
       "158"
      ]
     },
     "execution_count": 81,
     "metadata": {},
     "output_type": "execute_result"
    }
   ],
   "source": [
    "np.sum(seattle_min > 100) "
   ]
  },
  {
   "cell_type": "code",
   "execution_count": 102,
   "metadata": {},
   "outputs": [
    {
     "data": {
      "text/plain": [
       "array([178, 178, 178, 172, 172, 167, 167, 161, 161, 161, 156, 156, 156,\n",
       "       156, 156, 156, 156, 156, 156, 150, 150, 150, 150, 150, 150, 150,\n",
       "       150, 150, 150, 150, 150, 150, 150, 150, 150, 144, 144, 144, 144,\n",
       "       144, 144, 144, 144, 144, 144, 144, 144, 144, 144, 139, 139, 139,\n",
       "       139, 139, 139, 139, 139, 139, 139, 139, 139, 139, 139, 139, 139,\n",
       "       139, 139, 133, 133, 133, 133, 133, 133, 133, 133, 133, 133, 133,\n",
       "       133, 133, 133, 133, 133, 133, 133, 128, 128, 128, 128, 128, 128,\n",
       "       128, 128, 128, 128, 128, 128, 128, 128, 122, 122, 122, 122, 122,\n",
       "       122, 122, 122, 122, 122, 122, 117, 117, 117, 117, 117, 117, 117,\n",
       "       117, 117, 117, 117, 117, 117, 117, 117, 117, 117, 117, 111, 111,\n",
       "       111, 111, 111, 111, 111, 111, 111, 111, 111, 111, 111, 111, 111,\n",
       "       111, 111, 111, 106, 106, 106, 106, 106, 106, 106, 106, 106, 106,\n",
       "       106, 106, 100, 100, 100, 100, 100, 100, 100, 100, 100, 100, 100,\n",
       "       100, 100, 100, 100, 100, 100, 100,  94,  94,  94,  94,  94,  94,\n",
       "        94,  94,  94,  89,  89,  89,  89,  89,  89,  89,  89,  89,  89,\n",
       "        83,  83,  83,  83,  83,  83,  83,  83,  83,  83,  83,  83,  78,\n",
       "        78,  78,  78,  78,  78,  78,  78,  78,  72,  72,  72,  72,  72,\n",
       "        72,  72,  72,  72,  72,  72,  72,  72,  72,  72,  72,  67,  67,\n",
       "        67,  67,  67,  67,  67,  67,  67,  67,  67,  67,  61,  61,  61,\n",
       "        61,  61,  61,  61,  61,  61,  61,  61,  61,  61,  56,  56,  56,\n",
       "        56,  56,  56,  56,  56,  56,  56,  56,  56,  56,  56,  56,  56,\n",
       "        56,  56,  56,  56,  50,  50,  50,  50,  50,  50,  50,  50,  44,\n",
       "        44,  44,  44,  44,  44,  44,  44,  44,  44,  44,  44,  39,  39,\n",
       "        39,  39,  39,  39,  39,  39,  39,  33,  33,  33,  33,  33,  33,\n",
       "        33,  28,  28,  28,  28,  28,  28,  28,  28,  28,  28,  28,  28,\n",
       "        22,  22,  22,  17,  17,  17,  17,  17,  11,  11,  11,  11,  11,\n",
       "         6,   6,   6,   6,   6,   0,   0,   0,   0,  -5,  -5,  -5,  -5,\n",
       "       -16, -21, -21, -21, -21, -21, -27, -32, -32, -43, -49, -49, -55,\n",
       "       -60])"
      ]
     },
     "execution_count": 102,
     "metadata": {},
     "output_type": "execute_result"
    }
   ],
   "source": [
    "days = np.arange(365)\n",
    "summer = (days > 172) & (days < 262)\n",
    "\n",
    "seattle_min[173:262].std()\n",
    "\n",
    "\n",
    "seattle_sort = np.sort(seattle_min) #seattle_sort.sort()\n",
    "seattle_sort = seattle_sort[::-1]\n",
    "\n",
    "seattle_sort"
   ]
  },
  {
   "cell_type": "code",
   "execution_count": 103,
   "metadata": {},
   "outputs": [
    {
     "data": {
      "text/plain": [
       "array([133, 144, 139, 144, 139, 133, 128, 128, 156, 144, 139, 139, 133,\n",
       "       150, 178, 156, 139, 128, 150, 167, 150, 150, 139, 144, 139, 117,\n",
       "       150, 144, 133, 133, 133, 128, 122, 133, 150, 150, 156, 144, 178,\n",
       "       150, 156, 144, 161, 139, 150, 133, 133, 156, 139, 178, 172, 150,\n",
       "       172, 167, 156, 150, 156, 156, 139, 111, 133, 139, 133, 144, 156,\n",
       "       161, 144, 150, 150, 139, 128, 139, 128, 111, 139, 150, 133, 133,\n",
       "       133, 122, 128, 128, 100, 117, 122, 139, 144, 150, 161])"
      ]
     },
     "execution_count": 103,
     "metadata": {},
     "output_type": "execute_result"
    }
   ],
   "source": [
    "seattle_min[summer]"
   ]
  },
  {
   "cell_type": "code",
   "execution_count": null,
   "metadata": {},
   "outputs": [],
   "source": []
  }
 ],
 "metadata": {
  "kernelspec": {
   "display_name": "Python 3",
   "language": "python",
   "name": "python3"
  },
  "language_info": {
   "codemirror_mode": {
    "name": "ipython",
    "version": 3
   },
   "file_extension": ".py",
   "mimetype": "text/x-python",
   "name": "python",
   "nbconvert_exporter": "python",
   "pygments_lexer": "ipython3",
   "version": "3.7.3"
  }
 },
 "nbformat": 4,
 "nbformat_minor": 2
}
