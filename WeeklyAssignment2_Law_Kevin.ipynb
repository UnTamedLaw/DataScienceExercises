{
 "cells": [
  {
   "cell_type": "code",
   "execution_count": 1,
   "metadata": {},
   "outputs": [],
   "source": [
    "#Exercise 1\n",
    "mean10 = []"
   ]
  },
  {
   "cell_type": "code",
   "execution_count": 2,
   "metadata": {},
   "outputs": [],
   "source": [
    "import numpy.random as np\n",
    "for num in range(10):\n",
    "    random_list = np.randn(100)\n",
    "    mean = sum(random_list)/len(random_list)\n",
    "    mean10.append(mean)\n"
   ]
  },
  {
   "cell_type": "code",
   "execution_count": 3,
   "metadata": {},
   "outputs": [],
   "source": [
    "mean100 = []\n",
    "for num in range(100):\n",
    "    random_list = np.randn(100)\n",
    "    mean = sum(random_list)/len(random_list)\n",
    "    mean100.append(mean)\n"
   ]
  },
  {
   "cell_type": "code",
   "execution_count": 4,
   "metadata": {},
   "outputs": [],
   "source": [
    "mean1000 = []\n",
    "for num in range(1000):\n",
    "    random_list = np.randn(100)\n",
    "    mean = sum(random_list)/len(random_list)\n",
    "    mean1000.append(mean)\n"
   ]
  },
  {
   "cell_type": "code",
   "execution_count": 8,
   "metadata": {},
   "outputs": [
    {
     "data": {
      "text/plain": [
       "<matplotlib.legend.Legend at 0x1a205d7be0>"
      ]
     },
     "execution_count": 8,
     "metadata": {},
     "output_type": "execute_result"
    },
    {
     "data": {
      "image/png": "[encoded data removed]",
      "text/plain": [
       "<Figure size 432x288 with 1 Axes>"
      ]
     },
     "metadata": {
      "needs_background": "light"
     },
     "output_type": "display_data"
    }
   ],
   "source": [
    "import matplotlib.pyplot as plt\n",
    "import seaborn as sns\n",
    "sns.distplot(mean10, hist = False, label = \"iterate 10 times\")\n",
    "sns.distplot(mean100, hist = False, label = \"iterate 100 times\")\n",
    "sns.distplot(mean1000, hist = False, label = \"iterate 1000 times\")\n",
    "plt.legend()"
   ]
  },
  {
   "cell_type": "code",
   "execution_count": 11,
   "metadata": {},
   "outputs": [],
   "source": [
    "#Exercise 2\n",
    "\n",
    "multiline_text = \"\"\" It is a truth universally acknowledged, that a single man in possession of a good fortune, must be in want of a wife.\n",
    "\n",
    "However little known the feelings or views of such a man may be on his first entering a neighbourhood, this truth is so well fixed in the minds of the surrounding families, that he is considered the rightful property of some one or other of their daughters.\n",
    "\n",
    "“My dear Mr. Bennet,” said his lady to him one day, “have you heard that Netherfield Park is let at last?”\n",
    "\n",
    "Mr. Bennet replied that he had not.\n",
    "\n",
    "“But it is,” returned she; “for Mrs. Long has just been here, and she told me all about it.”\n",
    "\n",
    "Mr. Bennet made no answer.\n",
    "\n",
    "“Do you not want to know who has taken it?” cried his wife impatiently.\n",
    "\n",
    "“You want to tell me, and I have no objection to hearing it.”\n",
    "\n",
    "This was invitation enough.\n",
    "\n",
    "“Why, my dear, you must know, Mrs. Long says that Netherfield is taken by a young man of large fortune from the north of England; that he came down on Monday in a chaise and four to see the place, and was so much delighted with it, that he agreed with Mr. Morris immediately; that he is to take possession before Michaelmas, and some of his servants are to be in the house by the end of next week.”\n",
    "\n",
    "“What is his name?”\n",
    "\n",
    "“Bingley.”\n",
    "\n",
    "“Is he married or single?”\n",
    "\n",
    "“Oh! Single, my dear, to be sure! A single man of large fortune; four or five thousand a year. What a fine thing for our girls!”\n",
    "\n",
    "“How so? How can it affect them?”\n",
    "\n",
    "“My dear Mr. Bennet,” replied his wife, “how can you be so tiresome! You must know that I am thinking of his marrying one of them.”\n",
    "\n",
    "“Is that his design in settling here?”\n",
    "\n",
    "“Design! Nonsense, how can you talk so! But it is very likely that he may fall in love with one of them, and therefore you must visit him as soon as he comes.”\n",
    "\n",
    "“I see no occasion for that. You and the girls may go, or you may send them by themselves, which perhaps will be still better, for as you are as handsome as any of them, Mr. Bingley may like you the best of the party.”\n",
    "\n",
    "“My dear, you flatter me. I certainly have had my share of beauty, but I do not pretend to be anything extraordinary now. When a woman has five grown-up daughters, she ought to give over thinking of her own beauty.”\n",
    "\n",
    "“In such cases, a woman has not often much beauty to think of.”\n",
    "\n",
    "“But, my dear, you must indeed go and see Mr. Bingley when he comes into the neighbourhood.”\n",
    "\n",
    "“It is more than I engage for, I assure you.”\n",
    "\n",
    "“But consider your daughters. Only think what an establishment it would be for one of them. Sir William and Lady Lucas are determined to go, merely on that account, for in general, you know, they visit no newcomers. Indeed you must go, for it will be impossible for us to visit him if you do not.”\n",
    "\n",
    "“You are over-scrupulous, surely. I dare say Mr. Bingley will be very glad to see you; and I will send a few lines by you to assure him of my hearty consent to his marrying whichever he chooses of the girls; though I must throw in a good word for my little Lizzy.”\n",
    "\n",
    "“I desire you will do no such thing. Lizzy is not a bit better than the others; and I am sure she is not half so handsome as Jane, nor half so good-humoured as Lydia. But you are always giving her the preference.”\n",
    "\n",
    "“They have none of them much to recommend them,” replied he; “they are all silly and ignorant like other girls; but Lizzy has something more of quickness than her sisters.”\n",
    "\n",
    "“Mr. Bennet, how can you abuse your own children in such a way? You take delight in vexing me. You have no compassion for my poor nerves.”\n",
    "\n",
    "“You mistake me, my dear. I have a high respect for your nerves. They are my old friends. I have heard you mention them with consideration these last twenty years at least.”\n",
    "\n",
    "“Ah, you do not know what I suffer.”\n",
    "\n",
    "“But I hope you will get over it, and live to see many young men of four thousand a year come into the neighbourhood.”\n",
    "\n",
    "“It will be no use to us, if twenty such should come, since you will not visit them.”\n",
    "\n",
    "“Depend upon it, my dear, that when there are twenty, I will visit them all.”\n",
    "\n",
    "Mr. Bennet was so odd a mixture of quick parts, sarcastic humour, reserve, and caprice, that the experience of three-and-twenty years had been insufficient to make his wife understand his character. Her mind was less difficult to develop. She was a woman of mean understanding, little information, and uncertain temper. When she was discontented, she fancied herself nervous. The business of her life was to get her daughters married; its solace was visiting and news.\n",
    "\"\"\""
   ]
  },
  {
   "cell_type": "code",
   "execution_count": 27,
   "metadata": {},
   "outputs": [],
   "source": [
    "type(multiline_text)\n",
    "len(multiline_text)\n",
    "multiline_text = multiline_text.replace(\"\\n\", \" \")\n",
    "multiline_text_symbols_removed = \"\"\n",
    "for x in multiline_text:\n",
    "    if x == \" \":\n",
    "        multiline_text_symbols_removed += x\n",
    "    elif x.isalpha():\n",
    "        multiline_text_symbols_removed += x\n",
    "all_words = multiline_text_symbols_removed.lower().split()\n",
    "unique_set = set({})\n",
    "for word in all_words:\n",
    "    unique_set.add(word)\n",
    "word_dictionary = dict.fromkeys(all_words)\n",
    "unique_word_list = list(word_dictionary.keys())\n",
    "for word in all_words:\n",
    "    if word_dictionary[word] == None:\n",
    "        word_dictionary[word] = 1\n",
    "    else:\n",
    "        word_dictionary[word] += 1\n",
    "top_25_words = sorted(word_dictionary.items(), key = lambda words : words[1], reverse = True)\n",
    "top_words = top_25_words[:25]\n",
    "\n",
    "unique_word_list_sorted = sorted(unique_word_list)\n",
    "\n",
    "start_char_list = [x[0] for x in unique_word_list_sorted]\n",
    "\n",
    "from  collections import defaultdict\n",
    "\n",
    "start_char_dict = defaultdict(int)\n",
    "for char in start_char_list:\n",
    "    start_char_dict[char] += 1\n"
   ]
  },
  {
   "cell_type": "code",
   "execution_count": 36,
   "metadata": {},
   "outputs": [
    {
     "name": "stdout",
     "output_type": "stream",
     "text": [
      "defaultdict(<class 'int'>, {',': 56, '.': 58, '?': 8, ';': 10, '!': 6, '-': 5})\n"
     ]
    }
   ],
   "source": [
    "punct_dict = defaultdict(int)\n",
    "import string\n",
    "multiline_text_removed = \"\"\n",
    "for x in multiline_text:\n",
    "    if x == \" \":\n",
    "        multiline_text_removed += x\n",
    "    elif x in string.punctuation:\n",
    "        multiline_text_removed += x\n",
    "multiline_text_removed = multiline_text_removed.replace(\" \", \"\")\n",
    "\n",
    "punct_dict = defaultdict(int)\n",
    "for char in multiline_text_removed:\n",
    "    punct_dict[char] += 1\n",
    "\n",
    "    "
   ]
  },
  {
   "cell_type": "code",
   "execution_count": null,
   "metadata": {},
   "outputs": [],
   "source": []
  }
 ],
 "metadata": {
  "kernelspec": {
   "display_name": "Python 3",
   "language": "python",
   "name": "python3"
  },
  "language_info": {
   "codemirror_mode": {
    "name": "ipython",
    "version": 3
   },
   "file_extension": ".py",
   "mimetype": "text/x-python",
   "name": "python",
   "nbconvert_exporter": "python",
   "pygments_lexer": "ipython3",
   "version": "3.7.3"
  }
 },
 "nbformat": 4,
 "nbformat_minor": 2
}
